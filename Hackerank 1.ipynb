{
 "cells": [
  {
   "cell_type": "markdown",
   "id": "c313f131",
   "metadata": {},
   "source": [
    "# Q.1 Finding the percentage"
   ]
  },
  {
   "cell_type": "code",
   "execution_count": 4,
   "id": "499642d9",
   "metadata": {},
   "outputs": [
    {
     "name": "stdout",
     "output_type": "stream",
     "text": [
      "3\n",
      "Krishna 67 68 69\n",
      "Arjun 70 98 63\n",
      "Malika 52 56 60\n",
      "Malika\n",
      "56.00\n"
     ]
    }
   ],
   "source": [
    "n = int(input())\n",
    "student_marks={}\n",
    "for i in range(n):\n",
    "    name, *line=input().split()\n",
    "    scores=list(map(float,line))\n",
    "    student_marks[name]=scores\n",
    "student_name=input()\n",
    "a=student_marks[student_name]    \n",
    "b=sum(a)/3\n",
    "c=round(b,2)\n",
    "print(\"{0:.2f}\".format(c))"
   ]
  },
  {
   "cell_type": "markdown",
   "id": "6ed7785c",
   "metadata": {},
   "source": [
    "# Q.2 In Python, a string can be split on a delimiter."
   ]
  },
  {
   "cell_type": "code",
   "execution_count": 17,
   "id": "f4651419",
   "metadata": {},
   "outputs": [
    {
     "name": "stdout",
     "output_type": "stream",
     "text": [
      "this-is-a-string\n"
     ]
    }
   ],
   "source": [
    "a = \"this is a string\"\n",
    "a = a.split(\" \")\n",
    "b=\"-\".join(a)\n",
    "print(b)"
   ]
  },
  {
   "cell_type": "markdown",
   "id": "b2042548",
   "metadata": {},
   "source": [
    "# Q.3 Set .intersection() Operation"
   ]
  },
  {
   "cell_type": "code",
   "execution_count": 1,
   "id": "bc4013ad",
   "metadata": {},
   "outputs": [
    {
     "name": "stdout",
     "output_type": "stream",
     "text": [
      "9\n",
      "1 2 3 4 5 6 7 8 9\n",
      "9\n",
      "10 1 2 3 11 21 55 6 8\n",
      "5\n"
     ]
    }
   ],
   "source": [
    "n=int(input())\n",
    "n1=set(map(int,input().split()))\n",
    "m=int(input())\n",
    "m1=set(map(int,input().split()))\n",
    "ans=n1.intersection(m1)\n",
    "count=0\n",
    "for i in ans:\n",
    "    count=count+1\n",
    "print(count)"
   ]
  },
  {
   "cell_type": "markdown",
   "id": "af8cb56f",
   "metadata": {},
   "source": [
    "# Q.4 Find the Runner-Up Score!"
   ]
  },
  {
   "cell_type": "code",
   "execution_count": 2,
   "id": "d2ef779e",
   "metadata": {},
   "outputs": [
    {
     "name": "stdout",
     "output_type": "stream",
     "text": [
      "5\n",
      "2 3 6 6 5\n",
      "5\n"
     ]
    }
   ],
   "source": [
    "if __name__ == '__main__':\n",
    "    n = int(input())\n",
    "    arr = set(map(int, input().split()))\n",
    "    print(sorted(arr)[-2])"
   ]
  },
  {
   "cell_type": "markdown",
   "id": "4d01761b",
   "metadata": {},
   "source": [
    "# Q.5 sWAP cASE"
   ]
  },
  {
   "cell_type": "code",
   "execution_count": 5,
   "id": "f17bd5d3",
   "metadata": {},
   "outputs": [
    {
     "name": "stdout",
     "output_type": "stream",
     "text": [
      "EDyODA\n"
     ]
    }
   ],
   "source": [
    "def swap_case(s):\n",
    "    return s.swapcase()\n",
    "a = swap_case('edYoda')\n",
    "print(a)"
   ]
  },
  {
   "cell_type": "markdown",
   "id": "5477c34f",
   "metadata": {},
   "source": [
    "# Q.6 Arithmatic operators"
   ]
  },
  {
   "cell_type": "code",
   "execution_count": 7,
   "id": "d705fd5c",
   "metadata": {},
   "outputs": [
    {
     "name": "stdout",
     "output_type": "stream",
     "text": [
      "3\n",
      "2\n",
      "5\n",
      "1\n",
      "6\n"
     ]
    }
   ],
   "source": [
    "a=int(input())\n",
    "b=int(input())\n",
    "print(a+b)\n",
    "print(a-b)\n",
    "print(a*b)"
   ]
  },
  {
   "cell_type": "markdown",
   "id": "78e390d8",
   "metadata": {},
   "source": [
    "# Q.7 Python: Division\n",
    "\n"
   ]
  },
  {
   "cell_type": "code",
   "execution_count": 8,
   "id": "d9c628df",
   "metadata": {},
   "outputs": [
    {
     "name": "stdout",
     "output_type": "stream",
     "text": [
      "4\n",
      "3\n",
      "1\n",
      "1.3333333333333333\n"
     ]
    }
   ],
   "source": [
    "    a = int(input())\n",
    "    b = int(input())\n",
    "    print(a//b)\n",
    "    print(a/b)"
   ]
  },
  {
   "cell_type": "markdown",
   "id": "92bbd09e",
   "metadata": {},
   "source": [
    "# Q.8 Python If-Else"
   ]
  },
  {
   "cell_type": "code",
   "execution_count": 9,
   "id": "a5e49018",
   "metadata": {},
   "outputs": [
    {
     "name": "stdout",
     "output_type": "stream",
     "text": [
      "24\n",
      "Not Weird\n"
     ]
    }
   ],
   "source": [
    "n=int(input())\n",
    "if n%2!=0:\n",
    "    print('weird')\n",
    "else:\n",
    "    if n>=2 and n<=5:\n",
    "        print('Not Weired')\n",
    "    elif n>=5 and n<=20:\n",
    "        print('weird')\n",
    "    else:\n",
    "        print('Not Weird')"
   ]
  },
  {
   "cell_type": "markdown",
   "id": "c7f4aee6",
   "metadata": {},
   "source": [
    "# Q.9 Nested Lists"
   ]
  },
  {
   "cell_type": "code",
   "execution_count": 2,
   "id": "0edca6b6",
   "metadata": {},
   "outputs": [
    {
     "name": "stdout",
     "output_type": "stream",
     "text": [
      "5\n",
      "Harry\n",
      "37.21\n",
      "Berry\n",
      "37.21\n",
      "Tina\n",
      "37.2\n",
      "Akriti\n",
      "41\n",
      "Harsh\n",
      "39\n",
      "Berry\n",
      "Harry\n"
     ]
    }
   ],
   "source": [
    "n=int (input())\n",
    "res=[]\n",
    "grade=[]\n",
    "for i in range(n):\n",
    "    name=input() \n",
    "    mark=float(input())\n",
    "    res.append( [name,mark]) \n",
    "    grade.append(mark)#calc\n",
    "#print (res)\n",
    "#print (grade)\n",
    "grade=sorted (set (grade)) #sor\n",
    "#print (grade)\n",
    "m=grade [1]\n",
    "#print (m)\n",
    "name=[]\n",
    "for val in res:\n",
    "    if m==val [1]:\n",
    "        name.append (val[0])\n",
    "#print (name)#unsorted\n",
    "name.sort()\n",
    "#print (name)#sorted\n",
    "for nm in name:\n",
    "    print (nm)"
   ]
  },
  {
   "cell_type": "markdown",
   "id": "23ecd075",
   "metadata": {},
   "source": [
    "# Q.10 loop"
   ]
  },
  {
   "cell_type": "code",
   "execution_count": 1,
   "id": "c240ffbe",
   "metadata": {},
   "outputs": [
    {
     "name": "stdout",
     "output_type": "stream",
     "text": [
      "5\n",
      "0\n",
      "1\n",
      "4\n",
      "9\n",
      "16\n"
     ]
    }
   ],
   "source": [
    "n=int(input())\n",
    "for i in range(n):\n",
    "    print(i*i)"
   ]
  },
  {
   "cell_type": "markdown",
   "id": "d5bc531a",
   "metadata": {},
   "source": [
    "# Q.11 Write a function\n",
    "\n"
   ]
  },
  {
   "cell_type": "code",
   "execution_count": 9,
   "id": "f3a3ee15",
   "metadata": {},
   "outputs": [
    {
     "name": "stdout",
     "output_type": "stream",
     "text": [
      "True\n"
     ]
    }
   ],
   "source": [
    "def is_leap(year):\n",
    "    leap = False\n",
    "    if (year %4==0) and (year %100!=0 or year %400==0):\n",
    "        leap = True\n",
    "    return leap\n",
    "a=is_leap(2020)\n",
    "print(a)"
   ]
  },
  {
   "cell_type": "markdown",
   "id": "c203429d",
   "metadata": {},
   "source": [
    "# Q.12 Find a string\n",
    "\n"
   ]
  },
  {
   "cell_type": "code",
   "execution_count": null,
   "id": "010d9585",
   "metadata": {},
   "outputs": [],
   "source": [
    "def count_substring(string, sub_string):\n",
    "    count = 0\n",
    "    for i in range(len(string)-len(sub_string)+1):\n",
    "        if (string[i:i+len(sub_string)] == sub_string):\n",
    "            count += 1\n",
    "    return count\n",
    "\n",
    "if __name__ == '__main__':\n",
    "    string = input().strip()\n",
    "    sub_string = input().strip()\n",
    "    \n",
    "    count = count_substring(string, sub_string)\n",
    "    print(count)"
   ]
  },
  {
   "cell_type": "code",
   "execution_count": null,
   "id": "154356bd",
   "metadata": {},
   "outputs": [],
   "source": [
    "if __name__ == '__main__':\n",
    "    N = int(input())\n",
    "    Output = []\n",
    "    for i in range(0,N):\n",
    "        ip = input().split();\n",
    "        if ip[0] == \"print\":\n",
    "            print(Output)\n",
    "        elif ip[0] == \"insert\":\n",
    "            Output.insert(int(ip[1]),int(ip[2]))\n",
    "        elif ip[0] == \"remove\":\n",
    "            Output.remove(int(ip[1]))\n",
    "        elif ip[0] == \"pop\":\n",
    "            Output.pop();\n",
    "        elif ip[0] == \"append\":\n",
    "            Output.append(int(ip[1]))\n",
    "        elif ip[0] == \"sort\":\n",
    "            Output.sort();\n",
    "        else:\n",
    "            Output.reverse();"
   ]
  },
  {
   "cell_type": "code",
   "execution_count": null,
   "id": "cd49d0f5",
   "metadata": {},
   "outputs": [],
   "source": []
  }
 ],
 "metadata": {
  "kernelspec": {
   "display_name": "Python 3 (ipykernel)",
   "language": "python",
   "name": "python3"
  },
  "language_info": {
   "codemirror_mode": {
    "name": "ipython",
    "version": 3
   },
   "file_extension": ".py",
   "mimetype": "text/x-python",
   "name": "python",
   "nbconvert_exporter": "python",
   "pygments_lexer": "ipython3",
   "version": "3.10.0"
  }
 },
 "nbformat": 4,
 "nbformat_minor": 5
}
